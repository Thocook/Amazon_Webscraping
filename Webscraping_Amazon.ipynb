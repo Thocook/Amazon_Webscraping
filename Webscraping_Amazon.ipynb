{
  "nbformat": 4,
  "nbformat_minor": 0,
  "metadata": {
    "colab": {
      "provenance": [],
      "authorship_tag": "ABX9TyMpEsClt2dv35C5cBYQwg3v"
    },
    "kernelspec": {
      "name": "python3",
      "display_name": "Python 3"
    },
    "language_info": {
      "name": "python"
    }
  },
  "cells": [
    {
      "cell_type": "markdown",
      "source": [
        "#Introduction and Set Up"
      ],
      "metadata": {
        "id": "_Hr2QiZIQvQJ"
      }
    },
    {
      "cell_type": "markdown",
      "source": [
        "This project serves as an Amazon Web Scraper designed to retrieve information about items available for sale on Amazon and convert them into a structured database. Leveraging the capabilities of the requests, BeautifulSoup, and pandas libraries, the script efficiently conducts web scraping and data manipulation tasks. Furthermore, the project employs seaborn and matplotlib for effective data visualization."
      ],
      "metadata": {
        "id": "Qu7LBqTuQzpX"
      }
    },
    {
      "cell_type": "code",
      "execution_count": 261,
      "metadata": {
        "id": "7hmgstI5fm64"
      },
      "outputs": [],
      "source": [
        "import requests\n",
        "from bs4 import BeautifulSoup\n",
        "import pandas"
      ]
    },
    {
      "cell_type": "code",
      "source": [
        "# Use this link to change to your custom header:https://httpbin.org/get (Grab your User-Agent)\n",
        "custom_headers ={}"
      ],
      "metadata": {
        "id": "7OB950pI_Zwi"
      },
      "execution_count": 262,
      "outputs": []
    },
    {
      "cell_type": "markdown",
      "source": [
        "# Breakdown of scraping amazon with BeautifulSoup"
      ],
      "metadata": {
        "id": "6tpOPKb3mWNx"
      }
    },
    {
      "cell_type": "code",
      "source": [
        "# This section is condensed in the following section as a single function. This is the breakdown.\n",
        "# In this section, we demonstrate how to scrape information from an Amazon product page as an example.\n",
        "# We use a sample product URL and set up the necessary headers for the HTTP request.\n",
        "\n",
        "\n",
        "# Example URL for Amazon product\n",
        "url1 = \"https://www.amazon.ca/Maple-Treat-Canada-Medium-1000ml/dp/B00KL86NUC\"\n",
        "\n",
        "# Make a request to the URL with custom headers\n",
        "page = requests.get(url1, headers=custom_headers)\n",
        "\n",
        "# Make sure the return is 200\n",
        "page"
      ],
      "metadata": {
        "id": "6s8PB6amgYnx"
      },
      "execution_count": null,
      "outputs": []
    },
    {
      "cell_type": "code",
      "source": [
        "# Create BeautifulSoup objects for parsing the page\n",
        "soup1 = BeautifulSoup(page.content, \"html.parser\")\n",
        "soup2 = BeautifulSoup(soup1.prettify(), \"html.parser\")\n",
        "\n",
        "# Find the title and the price\n",
        "title = soup2.find(id='productTitle').get_text()\n",
        "price = soup2.find(class_='a-offscreen').get_text()\n",
        "\n",
        "print(title)\n",
        "print(price)"
      ],
      "metadata": {
        "id": "-6tyX8lqiPv4"
      },
      "execution_count": null,
      "outputs": []
    },
    {
      "cell_type": "code",
      "source": [
        "## Clean it up a bit\n",
        "price = price.strip()[:]\n",
        "title = title.strip()\n",
        "\n",
        "print(title)\n",
        "print(price)"
      ],
      "metadata": {
        "id": "iVlIpZPs4nck"
      },
      "execution_count": null,
      "outputs": []
    },
    {
      "cell_type": "code",
      "source": [
        "# Brand of the company\n",
        "brand = soup2.find(class_='a-span9').get_text()\n",
        "brand = brand.strip()\n",
        "print(brand)\n",
        "\n",
        "# Package Volume\n",
        "units_all = soup2.find(class_='a-spacing-small po-unit_count')\n",
        "units = units_all.find(class_='a-size-base po-break-word').get_text()\n",
        "units = units.strip()\n",
        "print(units)\n",
        "\n",
        "# Number of items\n",
        "quant_all = soup2.find(class_='a-spacing-small po-number_of_items')\n",
        "quant = quant_all.find(class_='a-size-base po-break-word').get_text()\n",
        "quant = quant.strip()\n",
        "print(quant)\n",
        "\n",
        "# Unit Volume\n",
        "item_all = soup2.find(class_='a-spacing-small po-item_volume')\n",
        "items = item_all.find(class_='a-size-base po-break-word').get_text()\n",
        "items = items.strip()\n",
        "print(items)"
      ],
      "metadata": {
        "id": "Lw5VH6rej2xU"
      },
      "execution_count": null,
      "outputs": []
    },
    {
      "cell_type": "code",
      "source": [
        "import pandas as pd\n",
        "# Create a Pandas DataFrame\n",
        "data = {'Title': [title], 'Price':[price],'Brand': [brand], 'Package Total': [units], 'Number of Items': [quant], 'Unit Volume': [items]}\n",
        "df = pd.DataFrame(data)\n",
        "\n",
        "# Display the DataFrame\n",
        "df.head()"
      ],
      "metadata": {
        "id": "S66mhUIjnRV7"
      },
      "execution_count": null,
      "outputs": []
    },
    {
      "cell_type": "markdown",
      "source": [
        "# Amazon Scraping Condensed Function"
      ],
      "metadata": {
        "id": "8xUfpzVTxnoP"
      }
    },
    {
      "cell_type": "code",
      "source": [
        "def scrape_amazon_product(url):\n",
        "    try:\n",
        "      # Send a request to the provided URL with custom headers\n",
        "        page = requests.get(url, headers=custom_headers)\n",
        "        soup = BeautifulSoup(page.content, \"html.parser\")\n",
        "\n",
        "        # Extract product information from the page\n",
        "        title_element = soup.find(id='productTitle')\n",
        "        # Extract the product title or set to \"N/A\" if not found\n",
        "        title = title_element.get_text().strip() if title_element else \"N/A\"\n",
        "\n",
        "        # Extract the product price or set to \"N/A\" if not found\n",
        "        price_element = soup.find(class_='a-offscreen')\n",
        "        price = price_element.get_text().strip()[1:] if price_element else \"N/A\"\n",
        "\n",
        "        # Extract the product brand or set to \"N/A\" if not found\n",
        "        brand_element = soup.find(class_='a-span9')\n",
        "        brand = brand_element.get_text().strip() if brand_element else \"N/A\"\n",
        "\n",
        "        # Extracting units, quant, and items based on the provided page structure]\n",
        "\n",
        "        # Extract the product package total or set to \"N/A\" if not found\n",
        "        units_all = soup.find(class_='a-spacing-small po-unit_count')\n",
        "        units_element = units_all.find(class_='a-size-base po-break-word') if units_all else None\n",
        "        units = units_element.get_text().strip() if units_element else \"N/A\"\n",
        "\n",
        "        # Extract the product quantity or set to \"N/A\" if not found\n",
        "        quant_all = soup.find(class_='a-spacing-small po-number_of_items')\n",
        "        quant_element = quant_all.find(class_='a-size-base po-break-word') if quant_all else None\n",
        "        quant = quant_element.get_text().strip() if quant_element else \"N/A\"\n",
        "\n",
        "        # Extract the product unit volume or set to \"N/A\" if not found\n",
        "        item_all = soup.find(class_='a-spacing-small po-item_volume')\n",
        "        item_element = item_all.find(class_='a-size-base po-break-word') if item_all else None\n",
        "        items = item_element.get_text().strip() if item_element else \"N/A\"\n",
        "\n",
        "\n",
        "        # Create a Pandas DataFrame to store the extracted data\n",
        "        data = {\n",
        "            'Title': [title],\n",
        "            'Price': [price],\n",
        "            'Brand': [brand],\n",
        "            'Package Total': [units],\n",
        "            'Number of Items': [quant],\n",
        "            'Unit Volume': [items],\n",
        "            'URL': [url]\n",
        "        }\n",
        "        df = pd.DataFrame(data)\n",
        "\n",
        "        return df\n",
        "\n",
        "    except Exception as e:\n",
        "      # Handle exceptions and print an error message\n",
        "        print(f\"Error processing URL {url}: {e}\")\n",
        "        return pd.DataFrame()\n",
        "\n",
        "# Example usage:\n",
        "test = scrape_amazon_product('https://www.amazon.ca/Maple-Treat-Canada-Medium-1000ml/dp/B00KL86NUC')\n",
        "\n",
        "# Display the DataFrame\n",
        "test.head()"
      ],
      "metadata": {
        "colab": {
          "base_uri": "https://localhost:8080/",
          "height": 81
        },
        "id": "ZOXgggq6xmId",
        "outputId": "54313ab4-9197-44eb-aff5-c9b5ae9af3be"
      },
      "execution_count": 259,
      "outputs": [
        {
          "output_type": "execute_result",
          "data": {
            "text/plain": [
              "                                               Title  Price            Brand  \\\n",
              "0  100% Pure Maple Syrup, Dark, Robust Taste, 1 L...  13.99  The Maple Treat   \n",
              "\n",
              "     Package Total Number of Items       Unit Volume  \\\n",
              "0  1000 milliliter               1  1000 Milliliters   \n",
              "\n",
              "                                                 URL  \n",
              "0  https://www.amazon.ca/Maple-Treat-Canada-Mediu...  "
            ],
            "text/html": [
              "\n",
              "  <div id=\"df-0c439dda-f836-4dd0-bf29-383f41fbe981\" class=\"colab-df-container\">\n",
              "    <div>\n",
              "<style scoped>\n",
              "    .dataframe tbody tr th:only-of-type {\n",
              "        vertical-align: middle;\n",
              "    }\n",
              "\n",
              "    .dataframe tbody tr th {\n",
              "        vertical-align: top;\n",
              "    }\n",
              "\n",
              "    .dataframe thead th {\n",
              "        text-align: right;\n",
              "    }\n",
              "</style>\n",
              "<table border=\"1\" class=\"dataframe\">\n",
              "  <thead>\n",
              "    <tr style=\"text-align: right;\">\n",
              "      <th></th>\n",
              "      <th>Title</th>\n",
              "      <th>Price</th>\n",
              "      <th>Brand</th>\n",
              "      <th>Package Total</th>\n",
              "      <th>Number of Items</th>\n",
              "      <th>Unit Volume</th>\n",
              "      <th>URL</th>\n",
              "    </tr>\n",
              "  </thead>\n",
              "  <tbody>\n",
              "    <tr>\n",
              "      <th>0</th>\n",
              "      <td>100% Pure Maple Syrup, Dark, Robust Taste, 1 L...</td>\n",
              "      <td>13.99</td>\n",
              "      <td>The Maple Treat</td>\n",
              "      <td>1000 milliliter</td>\n",
              "      <td>1</td>\n",
              "      <td>1000 Milliliters</td>\n",
              "      <td>https://www.amazon.ca/Maple-Treat-Canada-Mediu...</td>\n",
              "    </tr>\n",
              "  </tbody>\n",
              "</table>\n",
              "</div>\n",
              "    <div class=\"colab-df-buttons\">\n",
              "\n",
              "  <div class=\"colab-df-container\">\n",
              "    <button class=\"colab-df-convert\" onclick=\"convertToInteractive('df-0c439dda-f836-4dd0-bf29-383f41fbe981')\"\n",
              "            title=\"Convert this dataframe to an interactive table.\"\n",
              "            style=\"display:none;\">\n",
              "\n",
              "  <svg xmlns=\"http://www.w3.org/2000/svg\" height=\"24px\" viewBox=\"0 -960 960 960\">\n",
              "    <path d=\"M120-120v-720h720v720H120Zm60-500h600v-160H180v160Zm220 220h160v-160H400v160Zm0 220h160v-160H400v160ZM180-400h160v-160H180v160Zm440 0h160v-160H620v160ZM180-180h160v-160H180v160Zm440 0h160v-160H620v160Z\"/>\n",
              "  </svg>\n",
              "    </button>\n",
              "\n",
              "  <style>\n",
              "    .colab-df-container {\n",
              "      display:flex;\n",
              "      gap: 12px;\n",
              "    }\n",
              "\n",
              "    .colab-df-convert {\n",
              "      background-color: #E8F0FE;\n",
              "      border: none;\n",
              "      border-radius: 50%;\n",
              "      cursor: pointer;\n",
              "      display: none;\n",
              "      fill: #1967D2;\n",
              "      height: 32px;\n",
              "      padding: 0 0 0 0;\n",
              "      width: 32px;\n",
              "    }\n",
              "\n",
              "    .colab-df-convert:hover {\n",
              "      background-color: #E2EBFA;\n",
              "      box-shadow: 0px 1px 2px rgba(60, 64, 67, 0.3), 0px 1px 3px 1px rgba(60, 64, 67, 0.15);\n",
              "      fill: #174EA6;\n",
              "    }\n",
              "\n",
              "    .colab-df-buttons div {\n",
              "      margin-bottom: 4px;\n",
              "    }\n",
              "\n",
              "    [theme=dark] .colab-df-convert {\n",
              "      background-color: #3B4455;\n",
              "      fill: #D2E3FC;\n",
              "    }\n",
              "\n",
              "    [theme=dark] .colab-df-convert:hover {\n",
              "      background-color: #434B5C;\n",
              "      box-shadow: 0px 1px 3px 1px rgba(0, 0, 0, 0.15);\n",
              "      filter: drop-shadow(0px 1px 2px rgba(0, 0, 0, 0.3));\n",
              "      fill: #FFFFFF;\n",
              "    }\n",
              "  </style>\n",
              "\n",
              "    <script>\n",
              "      const buttonEl =\n",
              "        document.querySelector('#df-0c439dda-f836-4dd0-bf29-383f41fbe981 button.colab-df-convert');\n",
              "      buttonEl.style.display =\n",
              "        google.colab.kernel.accessAllowed ? 'block' : 'none';\n",
              "\n",
              "      async function convertToInteractive(key) {\n",
              "        const element = document.querySelector('#df-0c439dda-f836-4dd0-bf29-383f41fbe981');\n",
              "        const dataTable =\n",
              "          await google.colab.kernel.invokeFunction('convertToInteractive',\n",
              "                                                    [key], {});\n",
              "        if (!dataTable) return;\n",
              "\n",
              "        const docLinkHtml = 'Like what you see? Visit the ' +\n",
              "          '<a target=\"_blank\" href=https://colab.research.google.com/notebooks/data_table.ipynb>data table notebook</a>'\n",
              "          + ' to learn more about interactive tables.';\n",
              "        element.innerHTML = '';\n",
              "        dataTable['output_type'] = 'display_data';\n",
              "        await google.colab.output.renderOutput(dataTable, element);\n",
              "        const docLink = document.createElement('div');\n",
              "        docLink.innerHTML = docLinkHtml;\n",
              "        element.appendChild(docLink);\n",
              "      }\n",
              "    </script>\n",
              "  </div>\n",
              "\n",
              "\n",
              "    </div>\n",
              "  </div>\n"
            ]
          },
          "metadata": {},
          "execution_count": 259
        }
      ]
    },
    {
      "cell_type": "markdown",
      "source": [
        "#Creating an Amazon product list from your Google Search"
      ],
      "metadata": {
        "id": "35mJbn6HvVLF"
      }
    },
    {
      "cell_type": "code",
      "source": [
        "from googlesearch import search\n",
        "\n",
        "# Define the query for Google search. inurl:dp for products.\n",
        "# Changing this query to anything else is the simpliest way to use this product.\n",
        "query = \"maple syrup site:amazon.ca inurl:dp\"\n",
        "\n",
        "# Perform a Google search and get the URLs\n",
        "amazon_links = list(search(query, num=125, stop=125, pause=2))\n",
        "\n",
        "# Display the links\n",
        "for i, link in enumerate(amazon_links, start=1):\n",
        "    print(f\"{i}. {link}\")\n"
      ],
      "metadata": {
        "id": "XKm90tA2tZzl"
      },
      "execution_count": null,
      "outputs": []
    },
    {
      "cell_type": "code",
      "source": [
        "# Explanation: Since many links may not work, we need to filter and retain only the valid ones.\n",
        "\n",
        "import requests\n",
        "from googlesearch import search\n",
        "\n",
        "# Function to filter valid links\n",
        "def filter_valid_links(links):\n",
        "    valid_links = []\n",
        "\n",
        "     # Iterate through the links and check their validity\n",
        "    for i, link in enumerate(links, start=1):\n",
        "        try:\n",
        "            response = requests.get(link, timeout=5)\n",
        "\n",
        "            # Check if the response status code is 200 (OK)\n",
        "            if response.status_code == 200:\n",
        "                valid_links.append(link)\n",
        "                #print(f\"{i}. {link} - Status Code: {response.status_code}\")\n",
        "                pass\n",
        "            else:\n",
        "                #print(f\"{i}. {link} - Status Code: {response.status_code}. Skipping.\")\n",
        "                pass\n",
        "\n",
        "        except requests.RequestException as e:\n",
        "            #print(f\"{i}. {link} - Error: {e}. Skipping.\")\n",
        "            pass\n",
        "\n",
        "    return valid_links\n",
        "\n",
        "\n",
        "# Filter valid links using the defined function\n",
        "valid_links = filter_valid_links(amazon_links)\n",
        "\n",
        "\n",
        "# Create a Pandas DataFrame from the valid links\n",
        "validlinks_df = pd.DataFrame({\"Valid Links\": valid_links})\n",
        "validlinks_df"
      ],
      "metadata": {
        "id": "J6F_nEPR545t"
      },
      "execution_count": null,
      "outputs": []
    },
    {
      "cell_type": "code",
      "source": [
        "validlinks_df"
      ],
      "metadata": {
        "id": "YABYa83cGGoh"
      },
      "execution_count": null,
      "outputs": []
    },
    {
      "cell_type": "markdown",
      "source": [
        "# Create final data set and cleaning it"
      ],
      "metadata": {
        "id": "V-qqT7337vla"
      }
    },
    {
      "cell_type": "code",
      "source": [
        "# Initiate the list\n",
        "scraped_data_list = []\n",
        "\n",
        "# Iterate through each valid link in the DataFrame\n",
        "for url in validlinks_df['Valid Links']:\n",
        "    # Call the function to scrape Amazon product details from the valid URL's\n",
        "    scraped_data = scrape_amazon_product(url)\n",
        "\n",
        "    # Check if the scraping was successful (not None)\n",
        "    if scraped_data is not None:\n",
        "        scraped_data_list.append(scraped_data)\n",
        "\n",
        "# Combine the scraped data into a DataFrame\n",
        "result_df = pd.concat(scraped_data_list, ignore_index=True)\n",
        "result_df"
      ],
      "metadata": {
        "id": "Ot9X9Yw773HO"
      },
      "execution_count": 230,
      "outputs": []
    },
    {
      "cell_type": "code",
      "source": [
        "import numpy as np\n",
        "\n",
        "# Replace 'N/A' with NaN in the entire DataFrame\n",
        "result_df.replace('N/A', np.nan, inplace=True)\n",
        "\n",
        "# Drop rows with missing values in 'Unit Volume', 'Price', and 'Number of Items'\n",
        "result_df.dropna(subset=['Unit Volume', 'Price','Number of Items'], inplace=True)\n",
        "\n",
        "# Reset the index after dropping rows\n",
        "result_df.reset_index(drop=True, inplace=True)\n",
        "\n",
        "# Create a 'volume_ml' column by converting 'Unit Volume' to a consistent unit (milliliters) and multiplying by 'Number of Items'\n",
        "result_df['volume_ml'] = result_df['Unit Volume'].replace({' Milliliters': '', ' Liters': '000',' Gallons': ''}, regex=True).astype(float) * result_df['Number of Items'].astype(float)\n",
        "\n",
        "# Adjust 'volume_ml' for gallons to milliliters conversion\n",
        "result_df['volume_ml'] = np.where(result_df['Unit Volume'].str.contains('Gallons', case=False), result_df['volume_ml'] * 3785.41, result_df['volume_ml'])\n",
        "\n",
        "# Calculate the 'price_100ml' column by dividing 'Price' by 'volume_ml' and multiplying by 100\n",
        "result_df['price_100ml'] = result_df['Price'].astype(float)/result_df['volume_ml'].astype(float)*100\n"
      ],
      "metadata": {
        "id": "I8hjt8Qk_4nI"
      },
      "execution_count": 233,
      "outputs": []
    },
    {
      "cell_type": "code",
      "source": [
        "# Return the cleaned and processed Amazon product list\n",
        "result_df"
      ],
      "metadata": {
        "id": "aNdZyw94_7jg"
      },
      "execution_count": null,
      "outputs": []
    },
    {
      "cell_type": "markdown",
      "source": [
        "#Graphing it"
      ],
      "metadata": {
        "id": "zAysijCMDcxx"
      }
    },
    {
      "cell_type": "code",
      "source": [
        "import seaborn as sns\n",
        "import matplotlib.pyplot as plt\n",
        "\n",
        "# Setting up the figure size for the plot\n",
        "plt.figure(figsize=(10, 6))\n",
        "\n",
        "# Creating a histogram plot using Seaborn\n",
        "sns.histplot(result_df['price_100ml'], bins=20, kde=True, palette=\"rocket\", edgecolor='black')\n",
        "\n",
        "# Adding labels to the x and y axes\n",
        "plt.xlabel('Price per 100ml')\n",
        "plt.ylabel('Frequency')\n",
        "\n",
        "# Adding a title to the plot\n",
        "plt.title('Distribution of Price per 100ml')\n",
        "\n",
        "# Displaying the plot\n",
        "plt.show()\n"
      ],
      "metadata": {
        "id": "n1luN56YDpsf"
      },
      "execution_count": null,
      "outputs": []
    }
  ]
}